{
 "cells": [
  {
   "cell_type": "code",
   "execution_count": 13,
   "metadata": {},
   "outputs": [
    {
     "name": "stdout",
     "output_type": "stream",
     "text": [
      "Input: N = 17\n",
      "1\n",
      "2\n",
      "Fizz\n",
      "4\n",
      "Buzz\n",
      "Fizz\n",
      "7\n",
      "8\n",
      "Fizz\n",
      "Buzz\n",
      "11\n",
      "Fizz\n",
      "13\n",
      "14\n",
      "FizzBuzz\n",
      "16\n",
      "17\n"
     ]
    }
   ],
   "source": [
    "#1. Write a program that prints the numbers from 1 to N.\n",
    "#But, for multiples of three,  print “Fizz” instead of the number and for the multiples of five print “Buzz”.\n",
    "#For numbers which are multiples of both three and five print “FizzBuzz”.\n",
    "\n",
    "#Solution 1\n",
    "\n",
    "n=int(input(\"Input: N = \"))\n",
    "for fizzbuzz in range(1, n+1):\n",
    "    if fizzbuzz % 15 == 0:  \n",
    "        print(\"FizzBuzz\")                                          \n",
    "        continue\n",
    "    elif fizzbuzz % 3 == 0:      \n",
    "        print(\"Fizz\")                                          \n",
    "        continue\n",
    "    elif fizzbuzz % 5 == 0:          \n",
    "        print(\"Buzz\")                                      \n",
    "        continue \n",
    "    print(fizzbuzz)"
   ]
  },
  {
   "cell_type": "code",
   "execution_count": 10,
   "metadata": {},
   "outputs": [
    {
     "name": "stdout",
     "output_type": "stream",
     "text": [
      "1  -  4\n",
      "2  -  2\n",
      "3  -  1\n",
      "5  -  2\n",
      "8  -  2\n",
      "4  -  1\n",
      "7  -  1\n",
      "9  -  1\n",
      "6  -  1\n",
      "0  -  1\n"
     ]
    }
   ],
   "source": [
    "#2.  Given an array print all the numbers that are repeating in it and the number of times they are repeating.\n",
    "\n",
    "#Solution 2\n",
    "\n",
    "from collections import Counter\n",
    "def CountFrequency(arr): \n",
    "    return Counter(arr)   \n",
    "if __name__ == \"__main__\": \n",
    "    arr = [1, 2, 3, 5, 8, 4, 7, 9, 1, 6, 5, 2, 1, 0, 8, 1] \n",
    "    freq = CountFrequency(arr) \n",
    "    for key, value in freq.items(): \n",
    "        print (key, \" - \", value)"
   ]
  },
  {
   "cell_type": "code",
   "execution_count": 11,
   "metadata": {},
   "outputs": [
    {
     "name": "stdout",
     "output_type": "stream",
     "text": [
      "Total Sum Paid Together is : 275\n"
     ]
    }
   ],
   "source": [
    "#3. Given an object/dictionary, containing names as keys and amount_paid by each of them as values, \n",
    "#write a function that takes such an object as input and calculates the total sum paid by them together.\n",
    "\n",
    "#Solution 3\n",
    "\n",
    "def returnTotal(Obj):   \n",
    "    sum = 0\n",
    "    for i in Obj: \n",
    "        sum = sum + Obj[i]  \n",
    "    return sum\n",
    "Details = {\"Rick\": 85, \"Amit\": 42, \"George\": 53, \"Tanya\": 60, \"Linda\": 35} \n",
    "print(\"Total Sum Paid Together is :\", returnTotal(Details)) "
   ]
  },
  {
   "cell_type": "code",
   "execution_count": 12,
   "metadata": {},
   "outputs": [
    {
     "name": "stdout",
     "output_type": "stream",
     "text": [
      "[1, 2, 0, 0, 4, 1, 6, 2, 1, 3]\n",
      "[1, 3]\n",
      "[2, 0, 0, 4, 1, 6, 2, 1]\n",
      "Total Score : 20\n",
      "Batsman 1 Score : 4\n",
      "Batsman 2 Score : 16\n"
     ]
    }
   ],
   "source": [
    "#4. Develop a program to calculate the total and individual player scores in a cricket match. \n",
    "#Input would be an array with the index representing the ball number and the value representing the runs scored of that ball.\n",
    "\n",
    "#Solution 4\n",
    "\n",
    "\n",
    "import random\n",
    "score = [random.choice([0,1,2,3,4,6]) for i in range(0,10)]\n",
    "score = [1,2,0,0,4,1,6,2,1,3]\n",
    "total_score = 0\n",
    "b_score=[[],[]]\n",
    "index=0\n",
    "\n",
    "for i in range(1,len(score)+1):\n",
    "    b_score[index].append(score[i-1])\n",
    "    if score[i-1] %2 !=0:\n",
    "        index = (index+1)%2\n",
    "    if i%6 ==0:\n",
    "        index = (index+1)%2\n",
    "\n",
    "print(score)\n",
    "\n",
    "print(b_score[0])\n",
    "print(b_score[1])\n",
    "\n",
    "print(\"Total Score :\", sum(score))\n",
    "print(\"Batsman 1 Score :\", sum(b_score[0]))\n",
    "print(\"Batsman 2 Score :\",sum(b_score[1]))"
   ]
  }
 ],
 "metadata": {
  "kernelspec": {
   "display_name": "Python 3",
   "language": "python",
   "name": "python3"
  },
  "language_info": {
   "codemirror_mode": {
    "name": "ipython",
    "version": 3
   },
   "file_extension": ".py",
   "mimetype": "text/x-python",
   "name": "python",
   "nbconvert_exporter": "python",
   "pygments_lexer": "ipython3",
   "version": "3.7.3"
  }
 },
 "nbformat": 4,
 "nbformat_minor": 2
}
